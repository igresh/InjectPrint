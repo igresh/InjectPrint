{
 "cells": [
  {
   "cell_type": "code",
   "execution_count": null,
   "metadata": {},
   "outputs": [],
   "source": [
    "from injectprint import image_to_gcode\n",
    "import matplotlib.pyplot as plt\n",
    "from PIL import Image\n",
    "import numpy as np"
   ]
  },
  {
   "cell_type": "code",
   "execution_count": null,
   "metadata": {},
   "outputs": [],
   "source": [
    "name = 'unsw.png'\n",
    "\n",
    "point_rep = image_to_gcode (name, 55, resolution_mm2=1.3, E_per_mm2=0.0225, reduce_path_travelled=False, anti_drop=False)\n",
    "\n",
    "fig, ax = plt.subplots(dpi=200)\n",
    "\n",
    "im = Image.open(name)\n",
    "plt.imshow(im)\n",
    "\n",
    "\n",
    "point_rep = np.array(point_rep)\n",
    "colour = plt.cm.rainbow(np.linspace(0,1,len(point_rep)))\n",
    "ax.scatter(point_rep[:,1], point_rep[:,0], color=colour, s=point_rep[:,2]*100)"
   ]
  }
 ],
 "metadata": {
  "kernelspec": {
   "display_name": "Python 3",
   "language": "python",
   "name": "python3"
  },
  "language_info": {
   "codemirror_mode": {
    "name": "ipython",
    "version": 3
   },
   "file_extension": ".py",
   "mimetype": "text/x-python",
   "name": "python",
   "nbconvert_exporter": "python",
   "pygments_lexer": "ipython3",
   "version": "3.7.8"
  }
 },
 "nbformat": 4,
 "nbformat_minor": 4
}
